{
  "cells": [
    {
      "cell_type": "markdown",
      "metadata": {
        "id": "view-in-github",
        "colab_type": "text"
      },
      "source": [
        "<a href=\"https://colab.research.google.com/github/tanya-2004/TED_Talks_Web_Scraped_Dataset/blob/main/23456_TanyaAgrawal_MinorProject.ipynb\" target=\"_parent\"><img src=\"https://colab.research.google.com/assets/colab-badge.svg\" alt=\"Open In Colab\"/></a>"
      ]
    },
    {
      "cell_type": "markdown",
      "metadata": {
        "id": "hpZ9aFgoHac3"
      },
      "source": [
        "# **MINOR PROJECT**\n",
        "\n",
        "---\n",
        "\n",
        "\n",
        "\n",
        "\n"
      ]
    },
    {
      "cell_type": "markdown",
      "metadata": {
        "id": "U-GzgsmLHb09"
      },
      "source": [
        "# **TASK 1** - Exploratory Data Analysis"
      ]
    },
    {
      "cell_type": "markdown",
      "metadata": {
        "id": "594-J4cOKZ8z"
      },
      "source": [
        "##<-----------------------**Are there any missing values in the TED Talks dataset?**\n",
        "----------------------------->"
      ]
    },
    {
      "cell_type": "code",
      "execution_count": null,
      "metadata": {
        "id": "RrUNDRfOo5WS"
      },
      "outputs": [],
      "source": [
        "import pandas as pd\n",
        "import numpy as np\n",
        "import matplotlib.pyplot as plt\n",
        "import seaborn as sns\n",
        "import warnings\n",
        "warnings.filterwarnings('ignore')"
      ]
    },
    {
      "cell_type": "code",
      "source": [
        "from google.colab import drive\n",
        "drive.mount('/content/drive')"
      ],
      "metadata": {
        "colab": {
          "base_uri": "https://localhost:8080/"
        },
        "id": "lzKs9JYcVo9q",
        "outputId": "bd78acb6-bc3b-479e-bfea-0070ccd8f3ea"
      },
      "execution_count": null,
      "outputs": [
        {
          "output_type": "stream",
          "name": "stdout",
          "text": [
            "Mounted at /content/drive\n"
          ]
        }
      ]
    },
    {
      "cell_type": "code",
      "source": [
        "data = pd.read_csv('/content/drive/MyDrive/talks_info.csv')"
      ],
      "metadata": {
        "id": "oPGcdTolWkU2"
      },
      "execution_count": null,
      "outputs": []
    },
    {
      "cell_type": "code",
      "execution_count": null,
      "metadata": {
        "id": "qTy3pSWno5NP",
        "colab": {
          "base_uri": "https://localhost:8080/"
        },
        "outputId": "62b18e69-eb06-4e95-d0c5-e16b190f2892"
      },
      "outputs": [
        {
          "output_type": "execute_result",
          "data": {
            "text/plain": [
              "_id                     0\n",
              "duration                0\n",
              "event                   1\n",
              "likes                   0\n",
              "page_url                0\n",
              "published_date          0\n",
              "recorded_date           2\n",
              "related_videos          0\n",
              "speakers                0\n",
              "subtitle_languages      0\n",
              "summary                 0\n",
              "title                   0\n",
              "topics                  0\n",
              "transcript            648\n",
              "views                   0\n",
              "youtube_video_code    169\n",
              "dtype: int64"
            ]
          },
          "metadata": {},
          "execution_count": 10
        }
      ],
      "source": [
        "data.isnull().sum()"
      ]
    },
    {
      "cell_type": "markdown",
      "metadata": {
        "id": "UKMkq4aQCjpS"
      },
      "source": [
        "Yes there are missing values present in the given dataset.\n",
        "\n",
        "As shown above the missing values in the respective columns are\n",
        "\n",
        "**event** - 1\n",
        "\n",
        "**recorded_date** - 2\n",
        "\n",
        "**transcript** - 648\n",
        "\n",
        "**youtube_video_code** - 169"
      ]
    },
    {
      "cell_type": "markdown",
      "source": [
        "##Replacing missing values"
      ],
      "metadata": {
        "id": "6QzlLOVJEIYK"
      }
    },
    {
      "cell_type": "code",
      "source": [
        "data = data.fillna(value = 'Other')"
      ],
      "metadata": {
        "id": "H0fXzaQmEIYK"
      },
      "execution_count": null,
      "outputs": []
    },
    {
      "cell_type": "code",
      "execution_count": null,
      "metadata": {
        "colab": {
          "base_uri": "https://localhost:8080/"
        },
        "outputId": "b29a9818-ada4-4550-e7fa-6e9c04333e11",
        "id": "P64dE0DNEIYK"
      },
      "outputs": [
        {
          "output_type": "execute_result",
          "data": {
            "text/plain": [
              "_id                   0\n",
              "duration              0\n",
              "event                 0\n",
              "likes                 0\n",
              "page_url              0\n",
              "published_date        0\n",
              "recorded_date         0\n",
              "related_videos        0\n",
              "speakers              0\n",
              "subtitle_languages    0\n",
              "summary               0\n",
              "title                 0\n",
              "topics                0\n",
              "transcript            0\n",
              "views                 0\n",
              "youtube_video_code    0\n",
              "dtype: int64"
            ]
          },
          "metadata": {},
          "execution_count": 120
        }
      ],
      "source": [
        "data.isnull().sum()"
      ]
    },
    {
      "cell_type": "markdown",
      "source": [
        "Now, all the NaN values are replaced with the value = 'Other'"
      ],
      "metadata": {
        "id": "5ozggk9NEIYL"
      }
    },
    {
      "cell_type": "markdown",
      "metadata": {
        "id": "90m5JNBzKftD"
      },
      "source": [
        "##<-----------------------**Visualize amount of talks that have <= views than mean.(Hint: Using histogram)**\n",
        "----------------------------->"
      ]
    },
    {
      "cell_type": "code",
      "execution_count": null,
      "metadata": {
        "colab": {
          "base_uri": "https://localhost:8080/"
        },
        "id": "Khidw1AMo5Hc",
        "outputId": "9ff12ea4-dd9f-4cbf-d153-4f8381d798bc"
      },
      "outputs": [
        {
          "output_type": "execute_result",
          "data": {
            "text/plain": [
              "2130394.213993962"
            ]
          },
          "metadata": {},
          "execution_count": 11
        }
      ],
      "source": [
        "data['views'].mean()"
      ]
    },
    {
      "cell_type": "code",
      "execution_count": null,
      "metadata": {
        "colab": {
          "base_uri": "https://localhost:8080/",
          "height": 410
        },
        "id": "pl4ucfVmo5El",
        "outputId": "5b5cafc4-b946-4310-b419-03f3864c8aa0"
      },
      "outputs": [
        {
          "output_type": "display_data",
          "data": {
            "text/plain": [
              "<Figure size 1000x400 with 1 Axes>"
            ],
            "image/png": "[encoded data removed]"
          },
          "metadata": {}
        }
      ],
      "source": [
        "\n",
        "plt.figure(figsize=(10,4))\n",
        "plt.title(\"Amount of talks that have <= views than mean\")\n",
        "plt.xticks(np.arange(min(data['views']), max(data['views']), 100000))\n",
        "hist = sns.histplot(x=data['views'].loc[data['views'] <= data['views'].mean()], bins=100)\n",
        "plt.show()"
      ]
    },
    {
      "cell_type": "markdown",
      "metadata": {
        "id": "02KX4YvWniFJ"
      },
      "source": [
        "The distribution of the talks with respect to the views<=mean shows that the maximum amount of talks has views ranging from (0 to 0.5)*10^6"
      ]
    },
    {
      "cell_type": "markdown",
      "metadata": {
        "id": "kCFt_FTWomMn"
      },
      "source": [
        "##<-----------------------**Print the list of events with year in the end.**\n",
        "----------------------------->"
      ]
    },
    {
      "cell_type": "code",
      "execution_count": null,
      "metadata": {
        "colab": {
          "base_uri": "https://localhost:8080/"
        },
        "id": "GTZ7eSjCo5A7",
        "outputId": "bc0f4aab-49e3-4870-b429-81e84b94e05a"
      },
      "outputs": [
        {
          "output_type": "stream",
          "name": "stdout",
          "text": [
            "TED2006\n",
            "TEDGlobal 2005\n",
            "TED2004\n",
            "TED2005\n",
            "TEDSalon 2006\n",
            "TED2007\n",
            "TED2003\n",
            "TED2002\n",
            "TEDGlobal 2007\n",
            "TED2001\n",
            "Skoll World Forum 2007\n",
            "TED2008\n",
            "TED1984\n",
            "DLD 2007\n",
            "TED1990\n",
            "EG 2007\n",
            "TED1998\n",
            "LIFT 2007\n",
            "TEDSalon 2008\n",
            "Serious Play 2008\n",
            "Taste3 2008\n",
            "TED2009\n",
            "EG 2008\n",
            "TEDGlobal 2009\n",
            "TEDIndia 2009\n",
            "TEDSalon London 2009\n",
            "TEDMED 2009\n",
            "TEDxBoston 2009\n",
            "TED2010\n",
            "Web 2.0 Expo 2008\n",
            "DICE Summit 2010\n",
            "TEDSalon London 2010\n",
            "TEDGlobal 2010\n",
            "TEDxBoston 2010\n",
            "TED Senior Fellows at TEDGlobal 2010\n",
            "TEDxTelAviv 2010\n",
            "TEDxDU 2010\n",
            "TEDxRotterdam 2010\n",
            "TEDWomen 2010\n",
            "TEDSalon NY2011\n",
            "TEDxToronto 2010\n",
            "TEDMED 2010\n",
            "TEDxGöteborg 2010\n",
            "TEDxToronto 2011\n",
            "TED2011\n",
            "TEDActive 2011\n",
            "TEDSalon London Spring 2011\n",
            "TEDGlobal 2011\n",
            "TEDxBoston 2011\n",
            "TEDxParis 2010\n",
            "TEDxBoulder 2011\n",
            "TEDMED 2011\n",
            "TEDxDU 2011\n",
            "TEDxWomen 2011\n",
            "TEDxZurich 2011\n",
            "TEDSalon NY2012\n",
            "TED1994\n",
            "TEDSalon London Fall 2011\n",
            "TED2012\n",
            "TEDYouth 2011\n",
            "TEDMED 2012\n",
            "TEDSalon London Spring 2012\n",
            "TEDGlobal 2012\n",
            "TEDxBoston 2012\n",
            "TEDSalon London Fall 2012\n",
            "TEDxJaffa 2012\n",
            "TEDxZurich 2012\n",
            "TEDxWomen 2012\n",
            "TEDSalon NY2013\n",
            "TED2013\n",
            "TEDActive 2013\n",
            "TEDYouth 2012\n",
            "TEDMED 2013\n",
            "TEDGlobal 2013\n",
            "TEDWomen 2013\n",
            "TEDYouth 2013\n",
            "TEDxJaffa 2013\n",
            "TEDxZurich 2013\n",
            "TED Fellows Retreat 2013\n",
            "TEDxParis 2012\n",
            "TED2014\n",
            "TEDxMidAtlantic 2013\n",
            "TEDActive 2014\n",
            "TEDSalon NY2014\n",
            "TEDSalon Berlin 2014\n",
            "TEDMED 2014\n",
            "TEDGlobal 2014\n",
            "TEDYouth 2014\n",
            "TED2015\n",
            "TEDWomen 2015\n",
            "TEDSalon NY2015\n",
            "TEDxGoldenGatePark 2012\n",
            "TED Fellows Retreat 2015\n",
            "TED Fellows 2015\n",
            "2015\n",
            "TEDYouth 2015\n",
            "TEDMED 2015\n",
            "TED2016\n",
            "TEDActive 2015\n",
            "TEDWomen 2016\n",
            "TEDMED 2016\n",
            "TED2017\n",
            "TEDGlobal 2017\n",
            "TEDWomen 2017\n",
            "TEDMED 2017\n",
            "TEDxMidAtlantic 2017\n",
            "TED2018\n",
            "TEDxRosario 2017\n",
            "TEDWomen 2018\n",
            "TEDMED 2018\n",
            "TED2019\n",
            "TEDSummit 2019\n",
            "TEDWomen 2019\n",
            "TEDMED 2020\n",
            "TEDWomen 2020\n",
            "TED Global Idea Search 2021\n",
            "TEDWomen 2021\n",
            "TED2022\n",
            "TED Countdown New York Session 2022\n"
          ]
        }
      ],
      "source": [
        "event_list = data['event'].loc[data['event'].str.contains(r\"\\d{4}$\", na=False, regex=True)].unique()\n",
        "for event in event_list:\n",
        "    print(event)"
      ]
    },
    {
      "cell_type": "markdown",
      "metadata": {
        "id": "SLobDUFDOtqN"
      },
      "source": [
        "The above list contains Ted Talks' events containing the repective year at the end"
      ]
    },
    {
      "cell_type": "markdown",
      "metadata": {
        "id": "lz5YvMmCRguW"
      },
      "source": [
        "##<-----------------------**Plot a histogram 'Published Date vs talks published that month**----------------------------->"
      ]
    },
    {
      "cell_type": "code",
      "execution_count": null,
      "metadata": {
        "colab": {
          "base_uri": "https://localhost:8080/",
          "height": 427
        },
        "id": "UOb33h7Uo4-P",
        "outputId": "2b16a0cd-d7ef-4f5f-da7a-502dd9d46d31"
      },
      "outputs": [
        {
          "output_type": "execute_result",
          "data": {
            "text/plain": [
              "Text(0, 0.5, 'talks published that month')"
            ]
          },
          "metadata": {},
          "execution_count": 14
        },
        {
          "output_type": "display_data",
          "data": {
            "text/plain": [
              "<Figure size 1000x400 with 1 Axes>"
            ],
            "image/png": "[encoded data removed]"
          },
          "metadata": {}
        }
      ],
      "source": [
        "plt.figure(figsize=(10,4))\n",
        "data['published_date'] = pd.to_datetime(data['published_date'])\n",
        "hist = sns.histplot(x=data['published_date'].dt.year, bins=100)\n",
        "plt.title(\"Monthly count of published talks\")\n",
        "plt.xlabel(\"Published Date\")\n",
        "plt.ylabel(\"talks published that month\")"
      ]
    },
    {
      "cell_type": "markdown",
      "metadata": {
        "id": "qgIu4oeijsaV"
      },
      "source": [
        "The above plot shows that the maximum number of talks were published between the years 2018 and 2020"
      ]
    },
    {
      "cell_type": "markdown",
      "metadata": {
        "id": "t-rW13pVkUm9"
      },
      "source": [
        "##<-----------------------.**Visualize the relationship between likes vs views using scatter plot.**\n",
        "----------------------------->"
      ]
    },
    {
      "cell_type": "code",
      "execution_count": null,
      "metadata": {
        "id": "AtI7fMXQx9fG"
      },
      "outputs": [],
      "source": [
        "def clean_likes_column(number):\n",
        "    if number[-1] == 'K':\n",
        "        number = float(number[:-1]) * 1000\n",
        "        if number >= 100000:\n",
        "            # to get a bit of randomness in data\n",
        "            number += np.random.randint(1, 1000)\n",
        "        else:\n",
        "            number += np.random.randint(1, 100)\n",
        "    elif number[-1] == 'M':\n",
        "        number = float(number[:-1]) * 1000000 + np.random.randint(1000, 10000)\n",
        "\n",
        "    return int(number)"
      ]
    },
    {
      "cell_type": "code",
      "source": [
        "likes_series = data['likes'].apply(clean_likes_column)"
      ],
      "metadata": {
        "id": "zue8flkOQYDj"
      },
      "execution_count": null,
      "outputs": []
    },
    {
      "cell_type": "code",
      "source": [
        "likes_series.max()"
      ],
      "metadata": {
        "colab": {
          "base_uri": "https://localhost:8080/"
        },
        "id": "s-w9ugf69EAc",
        "outputId": "e2a63eee-c91f-416b-ca8c-f1a567c0e247"
      },
      "execution_count": null,
      "outputs": [
        {
          "output_type": "execute_result",
          "data": {
            "text/plain": [
              "2208645"
            ]
          },
          "metadata": {},
          "execution_count": 118
        }
      ]
    },
    {
      "cell_type": "code",
      "source": [
        "data['views'].max()"
      ],
      "metadata": {
        "colab": {
          "base_uri": "https://localhost:8080/"
        },
        "id": "a5CU8lfU2SXm",
        "outputId": "71017db6-827d-4244-919a-7c9d61f82173"
      },
      "execution_count": null,
      "outputs": [
        {
          "output_type": "execute_result",
          "data": {
            "text/plain": [
              "73389142"
            ]
          },
          "metadata": {},
          "execution_count": 116
        }
      ]
    },
    {
      "cell_type": "code",
      "execution_count": null,
      "metadata": {
        "colab": {
          "base_uri": "https://localhost:8080/",
          "height": 489
        },
        "id": "siSfClkWo47b",
        "outputId": "e655885c-52e6-4a04-955e-21fe0d3c0632"
      },
      "outputs": [
        {
          "output_type": "execute_result",
          "data": {
            "text/plain": [
              "[<matplotlib.lines.Line2D at 0x7fec45922cb0>]"
            ]
          },
          "metadata": {},
          "execution_count": 117
        },
        {
          "output_type": "display_data",
          "data": {
            "text/plain": [
              "<Figure size 640x480 with 1 Axes>"
            ],
            "image/png": "[encoded data removed]"
          },
          "metadata": {}
        }
      ],
      "source": [
        "plt.scatter(likes_series, data['views'])\n",
        "plt.title(\"Likes vs Views\")\n",
        "plt.xlabel(\"Likes\")\n",
        "plt.ylabel(\"Views\")\n",
        "plt.plot([0,2208645], [0, 73389142], color='red')"
      ]
    },
    {
      "cell_type": "markdown",
      "source": [
        "The above graph shows that the number of likes increases almost linearly with the increase in the number of views."
      ],
      "metadata": {
        "id": "3hNGgaWt_yda"
      }
    },
    {
      "cell_type": "markdown",
      "metadata": {
        "id": "IG2JDfgcrye7"
      },
      "source": [
        "# **TASK 2** - Classification/Regression"
      ]
    },
    {
      "cell_type": "markdown",
      "metadata": {
        "id": "dAz_ROFxr1_8"
      },
      "source": [
        "Perform following steps on the same dataset which you used for EDA.\n",
        "> - Data Preprocessing (as per requirement)\n",
        "> - Feature Engineering\n",
        "> - Split dataset in train-test (80:20 ratio)\n",
        "> - Model selection\n",
        "> - Model training\n",
        "> - Model evaluation\n",
        "> - Fine-tune the Model\n",
        "> - Make predictions\n",
        "\n",
        "Summarize your model's performance by evaluation metrices\n",
        "\n"
      ]
    },
    {
      "cell_type": "code",
      "execution_count": null,
      "metadata": {
        "id": "voDAHkZmo44r",
        "colab": {
          "base_uri": "https://localhost:8080/",
          "height": 1000
        },
        "outputId": "b54a992f-117d-479c-a9fa-22b14904ab12"
      },
      "outputs": [
        {
          "output_type": "execute_result",
          "data": {
            "text/plain": [
              "        _id  duration           event likes  \\\n",
              "0        21       992         TED2006   17K   \n",
              "1         1       957         TED2006  110K   \n",
              "2         7      1266         TED2006   60K   \n",
              "3        47      1126  TEDGlobal 2005   80K   \n",
              "4        55      1524         TED2006   14K   \n",
              "...     ...       ...             ...   ...   \n",
              "5626  95714       278          TED-Ed  5.8K   \n",
              "5627  95710       940     TEDxSeattle   10K   \n",
              "5628  95451      1048         TED2022   12K   \n",
              "5629  95708       651         TED2022  7.2K   \n",
              "5630  95709       649         TED2022  4.5K   \n",
              "\n",
              "                                               page_url  \\\n",
              "0     https://www.ted.com/talks/mena_trott_meet_the_...   \n",
              "1     https://www.ted.com/talks/al_gore_averting_the...   \n",
              "2     https://www.ted.com/talks/david_pogue_simplici...   \n",
              "3     https://www.ted.com/talks/david_deutsch_chemic...   \n",
              "4     https://www.ted.com/talks/jehane_noujaim_my_wi...   \n",
              "...                                                 ...   \n",
              "5626  https://www.ted.com/talks/lyla_latif_the_true_...   \n",
              "5627  https://www.ted.com/talks/trish_millines_dziko...   \n",
              "5628  https://www.ted.com/talks/david_wengrow_a_new_...   \n",
              "5629  https://www.ted.com/talks/dan_widmaier_the_fut...   \n",
              "5630  https://www.ted.com/talks/scott_fitsimones_cou...   \n",
              "\n",
              "                published_date recorded_date  \\\n",
              "0    2006-08-25 00:11:00+00:00    2006-02-23   \n",
              "1    2006-06-27 00:11:00+00:00    2006-02-25   \n",
              "2    2006-06-27 00:11:00+00:00    2006-02-24   \n",
              "3    2006-09-12 00:11:00+00:00    2005-07-14   \n",
              "4    2006-07-25 00:11:00+00:00    2006-02-26   \n",
              "...                        ...           ...   \n",
              "5626 2022-07-21 15:04:36+00:00    2022-07-21   \n",
              "5627 2022-07-21 15:13:53+00:00    2021-11-20   \n",
              "5628 2022-07-22 14:36:05+00:00    2022-04-10   \n",
              "5629 2022-07-25 14:47:14+00:00    2022-04-10   \n",
              "5630 2022-07-26 15:04:59+00:00    2022-04-10   \n",
              "\n",
              "                                       related_videos  \\\n",
              "0            [\"144\",\"1282\",\"1379\",\"87\",\"2302\",\"2638\"]   \n",
              "1        [\"243\",\"547\",\"2093\",\"74405\",\"64693\",\"83767\"]   \n",
              "2          [\"1725\",\"2274\",\"172\",\"2664\",\"2464\",\"1268\"]   \n",
              "3          [\"2237\",\"701\",\"1095\",\"1386\",\"76211\",\"242\"]   \n",
              "4         [\"2228\",\"1476\",\"800\",\"2890\",\"45233\",\"2694\"]   \n",
              "...                                               ...   \n",
              "5626                        [\"79294\",\"24262\",\"84056\"]   \n",
              "5627   [\"83539\",\"46386\",\"52190\",\"1667\",\"1710\",\"2050\"]   \n",
              "5628      [\"72994\",\"73025\",\"91371\",\"563\",\"68\",\"1226\"]   \n",
              "5629    [\"51538\",\"83537\",\"258\",\"10193\",\"52269\",\"866\"]   \n",
              "5630  [\"84954\",\"89893\",\"91980\",\"2107\",\"1429\",\"66946\"]   \n",
              "\n",
              "                                               speakers  \\\n",
              "0     [{\"name\":\"Mena Trott\",\"occupation\":\"Blogger; c...   \n",
              "1     [{\"name\":\"Al Gore\",\"occupation\":\"Climate advoc...   \n",
              "2     [{\"name\":\"David Pogue\",\"occupation\":\"Technolog...   \n",
              "3     [{\"name\":\"David Deutsch\",\"occupation\":\"Physici...   \n",
              "4     [{\"name\":\"Jehane Noujaim\",\"occupation\":\"Filmma...   \n",
              "...                                                 ...   \n",
              "5626    [{\"name\":\"Lyla Latif\",\"occupation\":\"Educator\"}]   \n",
              "5627  [{\"name\":\"Trish Millines Dziko\",\"occupation\":\"...   \n",
              "5628  [{\"name\":\"David Wengrow\",\"occupation\":\"Archaeo...   \n",
              "5629  [{\"name\":\"Dan Widmaier\",\"occupation\":\"Biomater...   \n",
              "5630  [{\"name\":\"Scott Fitsimones\",\"occupation\":\"Expe...   \n",
              "\n",
              "                                     subtitle_languages  \\\n",
              "0     [{\"name\":\"English\",\"code\":\"en\"},{\"name\":\"Vietn...   \n",
              "1     [{\"name\":\"Greek\",\"code\":\"el\"},{\"name\":\"Gujarat...   \n",
              "2     [{\"name\":\"Greek\",\"code\":\"el\"},{\"name\":\"English...   \n",
              "3     [{\"name\":\"Greek\",\"code\":\"el\"},{\"name\":\"English...   \n",
              "4     [{\"name\":\"English\",\"code\":\"en\"},{\"name\":\"Vietn...   \n",
              "...                                                 ...   \n",
              "5626  [{\"name\":\"English\",\"code\":\"en\"},{\"name\":\"Arabi...   \n",
              "5627  [{\"name\":\"English\",\"code\":\"en\"},{\"name\":\"Arabi...   \n",
              "5628  [{\"name\":\"English\",\"code\":\"en\"},{\"name\":\"Arabi...   \n",
              "5629                   [{\"name\":\"English\",\"code\":\"en\"}]   \n",
              "5630                   [{\"name\":\"English\",\"code\":\"en\"}]   \n",
              "\n",
              "                                                summary  \\\n",
              "0     The founding mother of the blog revolution, Mo...   \n",
              "1     With the same humor and humanity he exuded in ...   \n",
              "2     New York Times columnist David Pogue takes aim...   \n",
              "3     Legendary scientist David Deutsch puts theoret...   \n",
              "4     Jehane Noujaim unveils her 2006 TED Prize wish...   \n",
              "...                                                 ...   \n",
              "5626  In 2020, Mali produced over 71 tons of gold— a...   \n",
              "5627  Forget home economics and standardized tests, ...   \n",
              "5628  What if the commonly accepted narratives about...   \n",
              "5629  Your closet is likely full of all kinds of mat...   \n",
              "5630  Could DAOs, or \"decentralized autonomous organ...   \n",
              "\n",
              "                                                  title  \\\n",
              "0               Meet the founder of the blog revolution   \n",
              "1                           Averting the climate crisis   \n",
              "2                                      Simplicity sells   \n",
              "3           Chemical scum that dream of distant quasars   \n",
              "4                         My wish: A global day of film   \n",
              "...                                                 ...   \n",
              "5626                              The true cost of gold   \n",
              "5627     How schools can nurture every student's genius   \n",
              "5628  A new understanding of human history and the r...   \n",
              "5629       The future of fashion -- made from mushrooms   \n",
              "5630             Could a DAO build the next great city?   \n",
              "\n",
              "                                                 topics  \\\n",
              "0     [{\"id\":\"4\",\"name\":\"culture\"},{\"id\":\"13\",\"name\"...   \n",
              "1     [{\"id\":\"3\",\"name\":\"climate change\"},{\"id\":\"4\",...   \n",
              "2     [{\"id\":\"10\",\"name\":\"technology\"},{\"id\":\"36\",\"n...   \n",
              "3     [{\"id\":\"3\",\"name\":\"climate change\"},{\"id\":\"4\",...   \n",
              "4     [{\"id\":\"4\",\"name\":\"culture\"},{\"id\":\"6\",\"name\":...   \n",
              "...                                                 ...   \n",
              "5626  [{\"id\":\"18\",\"name\":\"business\"},{\"id\":\"19\",\"nam...   \n",
              "5627  [{\"id\":\"52\",\"name\":\"education\"},{\"id\":\"53\",\"na...   \n",
              "5628  [{\"id\":\"4\",\"name\":\"culture\"},{\"id\":\"81\",\"name\"...   \n",
              "5629  [{\"id\":\"5\",\"name\":\"environment\"},{\"id\":\"8\",\"na...   \n",
              "5630  [{\"id\":\"45\",\"name\":\"cities\"},{\"id\":\"51\",\"name\"...   \n",
              "\n",
              "                                             transcript    views  \\\n",
              "0     Over the past couple of days, as I've been pre...   589115   \n",
              "1     Thank you so much, Chris. And it's truly a gre...  3671801   \n",
              "2     (Music: \"The Sound of Silence,\" Simon &amp; Ga...  2008487   \n",
              "3     We've been told to go out on a limb and say so...  2694257   \n",
              "4     I can't help but this wish: to think about whe...   489757   \n",
              "...                                                 ...      ...   \n",
              "5626  Gold is one of Earth’s most valuable resources...   195168   \n",
              "5627  Let me tell you about the fifth-grade students...   356620   \n",
              "5628  In the summer of 2014, I was in Iraqi Kurdista...   412825   \n",
              "5629  I'm a proud lifelong nerd, and I have a PhD in...   240375   \n",
              "5630  How do you start a new city? Turns out it's no...   151529   \n",
              "\n",
              "     youtube_video_code  \n",
              "0           RlBTxuWCuL8  \n",
              "1           rDiGYuQicpA  \n",
              "2           NEjZt0y6OOw  \n",
              "3           gQliI_WGaGk  \n",
              "4           QCFSrb6B5nw  \n",
              "...                 ...  \n",
              "5626        1nglN3mfZUw  \n",
              "5627              Other  \n",
              "5628        8SJi0sHrEI4  \n",
              "5629        OcdumFcGdfU  \n",
              "5630        zTStDvUtQWc  \n",
              "\n",
              "[5631 rows x 16 columns]"
            ],
            "text/html": [
              "\n",
              "  <div id=\"df-3615c16b-53e4-4c1d-bf56-7fe38cb55a1e\">\n",
              "    <div class=\"colab-df-container\">\n",
              "      <div>\n",
              "<style scoped>\n",
              "    .dataframe tbody tr th:only-of-type {\n",
              "        vertical-align: middle;\n",
              "    }\n",
              "\n",
              "    .dataframe tbody tr th {\n",
              "        vertical-align: top;\n",
              "    }\n",
              "\n",
              "    .dataframe thead th {\n",
              "        text-align: right;\n",
              "    }\n",
              "</style>\n",
              "<table border=\"1\" class=\"dataframe\">\n",
              "  <thead>\n",
              "    <tr style=\"text-align: right;\">\n",
              "      <th></th>\n",
              "      <th>_id</th>\n",
              "      <th>duration</th>\n",
              "      <th>event</th>\n",
              "      <th>likes</th>\n",
              "      <th>page_url</th>\n",
              "      <th>published_date</th>\n",
              "      <th>recorded_date</th>\n",
              "      <th>related_videos</th>\n",
              "      <th>speakers</th>\n",
              "      <th>subtitle_languages</th>\n",
              "      <th>summary</th>\n",
              "      <th>title</th>\n",
              "      <th>topics</th>\n",
              "      <th>transcript</th>\n",
              "      <th>views</th>\n",
              "      <th>youtube_video_code</th>\n",
              "    </tr>\n",
              "  </thead>\n",
              "  <tbody>\n",
              "    <tr>\n",
              "      <th>0</th>\n",
              "      <td>21</td>\n",
              "      <td>992</td>\n",
              "      <td>TED2006</td>\n",
              "      <td>17K</td>\n",
              "      <td>https://www.ted.com/talks/mena_trott_meet_the_...</td>\n",
              "      <td>2006-08-25 00:11:00+00:00</td>\n",
              "      <td>2006-02-23</td>\n",
              "      <td>[\"144\",\"1282\",\"1379\",\"87\",\"2302\",\"2638\"]</td>\n",
              "      <td>[{\"name\":\"Mena Trott\",\"occupation\":\"Blogger; c...</td>\n",
              "      <td>[{\"name\":\"English\",\"code\":\"en\"},{\"name\":\"Vietn...</td>\n",
              "      <td>The founding mother of the blog revolution, Mo...</td>\n",
              "      <td>Meet the founder of the blog revolution</td>\n",
              "      <td>[{\"id\":\"4\",\"name\":\"culture\"},{\"id\":\"13\",\"name\"...</td>\n",
              "      <td>Over the past couple of days, as I've been pre...</td>\n",
              "      <td>589115</td>\n",
              "      <td>RlBTxuWCuL8</td>\n",
              "    </tr>\n",
              "    <tr>\n",
              "      <th>1</th>\n",
              "      <td>1</td>\n",
              "      <td>957</td>\n",
              "      <td>TED2006</td>\n",
              "      <td>110K</td>\n",
              "      <td>https://www.ted.com/talks/al_gore_averting_the...</td>\n",
              "      <td>2006-06-27 00:11:00+00:00</td>\n",
              "      <td>2006-02-25</td>\n",
              "      <td>[\"243\",\"547\",\"2093\",\"74405\",\"64693\",\"83767\"]</td>\n",
              "      <td>[{\"name\":\"Al Gore\",\"occupation\":\"Climate advoc...</td>\n",
              "      <td>[{\"name\":\"Greek\",\"code\":\"el\"},{\"name\":\"Gujarat...</td>\n",
              "      <td>With the same humor and humanity he exuded in ...</td>\n",
              "      <td>Averting the climate crisis</td>\n",
              "      <td>[{\"id\":\"3\",\"name\":\"climate change\"},{\"id\":\"4\",...</td>\n",
              "      <td>Thank you so much, Chris. And it's truly a gre...</td>\n",
              "      <td>3671801</td>\n",
              "      <td>rDiGYuQicpA</td>\n",
              "    </tr>\n",
              "    <tr>\n",
              "      <th>2</th>\n",
              "      <td>7</td>\n",
              "      <td>1266</td>\n",
              "      <td>TED2006</td>\n",
              "      <td>60K</td>\n",
              "      <td>https://www.ted.com/talks/david_pogue_simplici...</td>\n",
              "      <td>2006-06-27 00:11:00+00:00</td>\n",
              "      <td>2006-02-24</td>\n",
              "      <td>[\"1725\",\"2274\",\"172\",\"2664\",\"2464\",\"1268\"]</td>\n",
              "      <td>[{\"name\":\"David Pogue\",\"occupation\":\"Technolog...</td>\n",
              "      <td>[{\"name\":\"Greek\",\"code\":\"el\"},{\"name\":\"English...</td>\n",
              "      <td>New York Times columnist David Pogue takes aim...</td>\n",
              "      <td>Simplicity sells</td>\n",
              "      <td>[{\"id\":\"10\",\"name\":\"technology\"},{\"id\":\"36\",\"n...</td>\n",
              "      <td>(Music: \"The Sound of Silence,\" Simon &amp;amp; Ga...</td>\n",
              "      <td>2008487</td>\n",
              "      <td>NEjZt0y6OOw</td>\n",
              "    </tr>\n",
              "    <tr>\n",
              "      <th>3</th>\n",
              "      <td>47</td>\n",
              "      <td>1126</td>\n",
              "      <td>TEDGlobal 2005</td>\n",
              "      <td>80K</td>\n",
              "      <td>https://www.ted.com/talks/david_deutsch_chemic...</td>\n",
              "      <td>2006-09-12 00:11:00+00:00</td>\n",
              "      <td>2005-07-14</td>\n",
              "      <td>[\"2237\",\"701\",\"1095\",\"1386\",\"76211\",\"242\"]</td>\n",
              "      <td>[{\"name\":\"David Deutsch\",\"occupation\":\"Physici...</td>\n",
              "      <td>[{\"name\":\"Greek\",\"code\":\"el\"},{\"name\":\"English...</td>\n",
              "      <td>Legendary scientist David Deutsch puts theoret...</td>\n",
              "      <td>Chemical scum that dream of distant quasars</td>\n",
              "      <td>[{\"id\":\"3\",\"name\":\"climate change\"},{\"id\":\"4\",...</td>\n",
              "      <td>We've been told to go out on a limb and say so...</td>\n",
              "      <td>2694257</td>\n",
              "      <td>gQliI_WGaGk</td>\n",
              "    </tr>\n",
              "    <tr>\n",
              "      <th>4</th>\n",
              "      <td>55</td>\n",
              "      <td>1524</td>\n",
              "      <td>TED2006</td>\n",
              "      <td>14K</td>\n",
              "      <td>https://www.ted.com/talks/jehane_noujaim_my_wi...</td>\n",
              "      <td>2006-07-25 00:11:00+00:00</td>\n",
              "      <td>2006-02-26</td>\n",
              "      <td>[\"2228\",\"1476\",\"800\",\"2890\",\"45233\",\"2694\"]</td>\n",
              "      <td>[{\"name\":\"Jehane Noujaim\",\"occupation\":\"Filmma...</td>\n",
              "      <td>[{\"name\":\"English\",\"code\":\"en\"},{\"name\":\"Vietn...</td>\n",
              "      <td>Jehane Noujaim unveils her 2006 TED Prize wish...</td>\n",
              "      <td>My wish: A global day of film</td>\n",
              "      <td>[{\"id\":\"4\",\"name\":\"culture\"},{\"id\":\"6\",\"name\":...</td>\n",
              "      <td>I can't help but this wish: to think about whe...</td>\n",
              "      <td>489757</td>\n",
              "      <td>QCFSrb6B5nw</td>\n",
              "    </tr>\n",
              "    <tr>\n",
              "      <th>...</th>\n",
              "      <td>...</td>\n",
              "      <td>...</td>\n",
              "      <td>...</td>\n",
              "      <td>...</td>\n",
              "      <td>...</td>\n",
              "      <td>...</td>\n",
              "      <td>...</td>\n",
              "      <td>...</td>\n",
              "      <td>...</td>\n",
              "      <td>...</td>\n",
              "      <td>...</td>\n",
              "      <td>...</td>\n",
              "      <td>...</td>\n",
              "      <td>...</td>\n",
              "      <td>...</td>\n",
              "      <td>...</td>\n",
              "    </tr>\n",
              "    <tr>\n",
              "      <th>5626</th>\n",
              "      <td>95714</td>\n",
              "      <td>278</td>\n",
              "      <td>TED-Ed</td>\n",
              "      <td>5.8K</td>\n",
              "      <td>https://www.ted.com/talks/lyla_latif_the_true_...</td>\n",
              "      <td>2022-07-21 15:04:36+00:00</td>\n",
              "      <td>2022-07-21</td>\n",
              "      <td>[\"79294\",\"24262\",\"84056\"]</td>\n",
              "      <td>[{\"name\":\"Lyla Latif\",\"occupation\":\"Educator\"}]</td>\n",
              "      <td>[{\"name\":\"English\",\"code\":\"en\"},{\"name\":\"Arabi...</td>\n",
              "      <td>In 2020, Mali produced over 71 tons of gold— a...</td>\n",
              "      <td>The true cost of gold</td>\n",
              "      <td>[{\"id\":\"18\",\"name\":\"business\"},{\"id\":\"19\",\"nam...</td>\n",
              "      <td>Gold is one of Earth’s most valuable resources...</td>\n",
              "      <td>195168</td>\n",
              "      <td>1nglN3mfZUw</td>\n",
              "    </tr>\n",
              "    <tr>\n",
              "      <th>5627</th>\n",
              "      <td>95710</td>\n",
              "      <td>940</td>\n",
              "      <td>TEDxSeattle</td>\n",
              "      <td>10K</td>\n",
              "      <td>https://www.ted.com/talks/trish_millines_dziko...</td>\n",
              "      <td>2022-07-21 15:13:53+00:00</td>\n",
              "      <td>2021-11-20</td>\n",
              "      <td>[\"83539\",\"46386\",\"52190\",\"1667\",\"1710\",\"2050\"]</td>\n",
              "      <td>[{\"name\":\"Trish Millines Dziko\",\"occupation\":\"...</td>\n",
              "      <td>[{\"name\":\"English\",\"code\":\"en\"},{\"name\":\"Arabi...</td>\n",
              "      <td>Forget home economics and standardized tests, ...</td>\n",
              "      <td>How schools can nurture every student's genius</td>\n",
              "      <td>[{\"id\":\"52\",\"name\":\"education\"},{\"id\":\"53\",\"na...</td>\n",
              "      <td>Let me tell you about the fifth-grade students...</td>\n",
              "      <td>356620</td>\n",
              "      <td>Other</td>\n",
              "    </tr>\n",
              "    <tr>\n",
              "      <th>5628</th>\n",
              "      <td>95451</td>\n",
              "      <td>1048</td>\n",
              "      <td>TED2022</td>\n",
              "      <td>12K</td>\n",
              "      <td>https://www.ted.com/talks/david_wengrow_a_new_...</td>\n",
              "      <td>2022-07-22 14:36:05+00:00</td>\n",
              "      <td>2022-04-10</td>\n",
              "      <td>[\"72994\",\"73025\",\"91371\",\"563\",\"68\",\"1226\"]</td>\n",
              "      <td>[{\"name\":\"David Wengrow\",\"occupation\":\"Archaeo...</td>\n",
              "      <td>[{\"name\":\"English\",\"code\":\"en\"},{\"name\":\"Arabi...</td>\n",
              "      <td>What if the commonly accepted narratives about...</td>\n",
              "      <td>A new understanding of human history and the r...</td>\n",
              "      <td>[{\"id\":\"4\",\"name\":\"culture\"},{\"id\":\"81\",\"name\"...</td>\n",
              "      <td>In the summer of 2014, I was in Iraqi Kurdista...</td>\n",
              "      <td>412825</td>\n",
              "      <td>8SJi0sHrEI4</td>\n",
              "    </tr>\n",
              "    <tr>\n",
              "      <th>5629</th>\n",
              "      <td>95708</td>\n",
              "      <td>651</td>\n",
              "      <td>TED2022</td>\n",
              "      <td>7.2K</td>\n",
              "      <td>https://www.ted.com/talks/dan_widmaier_the_fut...</td>\n",
              "      <td>2022-07-25 14:47:14+00:00</td>\n",
              "      <td>2022-04-10</td>\n",
              "      <td>[\"51538\",\"83537\",\"258\",\"10193\",\"52269\",\"866\"]</td>\n",
              "      <td>[{\"name\":\"Dan Widmaier\",\"occupation\":\"Biomater...</td>\n",
              "      <td>[{\"name\":\"English\",\"code\":\"en\"}]</td>\n",
              "      <td>Your closet is likely full of all kinds of mat...</td>\n",
              "      <td>The future of fashion -- made from mushrooms</td>\n",
              "      <td>[{\"id\":\"5\",\"name\":\"environment\"},{\"id\":\"8\",\"na...</td>\n",
              "      <td>I'm a proud lifelong nerd, and I have a PhD in...</td>\n",
              "      <td>240375</td>\n",
              "      <td>OcdumFcGdfU</td>\n",
              "    </tr>\n",
              "    <tr>\n",
              "      <th>5630</th>\n",
              "      <td>95709</td>\n",
              "      <td>649</td>\n",
              "      <td>TED2022</td>\n",
              "      <td>4.5K</td>\n",
              "      <td>https://www.ted.com/talks/scott_fitsimones_cou...</td>\n",
              "      <td>2022-07-26 15:04:59+00:00</td>\n",
              "      <td>2022-04-10</td>\n",
              "      <td>[\"84954\",\"89893\",\"91980\",\"2107\",\"1429\",\"66946\"]</td>\n",
              "      <td>[{\"name\":\"Scott Fitsimones\",\"occupation\":\"Expe...</td>\n",
              "      <td>[{\"name\":\"English\",\"code\":\"en\"}]</td>\n",
              "      <td>Could DAOs, or \"decentralized autonomous organ...</td>\n",
              "      <td>Could a DAO build the next great city?</td>\n",
              "      <td>[{\"id\":\"45\",\"name\":\"cities\"},{\"id\":\"51\",\"name\"...</td>\n",
              "      <td>How do you start a new city? Turns out it's no...</td>\n",
              "      <td>151529</td>\n",
              "      <td>zTStDvUtQWc</td>\n",
              "    </tr>\n",
              "  </tbody>\n",
              "</table>\n",
              "<p>5631 rows × 16 columns</p>\n",
              "</div>\n",
              "      <button class=\"colab-df-convert\" onclick=\"convertToInteractive('df-3615c16b-53e4-4c1d-bf56-7fe38cb55a1e')\"\n",
              "              title=\"Convert this dataframe to an interactive table.\"\n",
              "              style=\"display:none;\">\n",
              "        \n",
              "  <svg xmlns=\"http://www.w3.org/2000/svg\" height=\"24px\"viewBox=\"0 0 24 24\"\n",
              "       width=\"24px\">\n",
              "    <path d=\"M0 0h24v24H0V0z\" fill=\"none\"/>\n",
              "    <path d=\"M18.56 5.44l.94 2.06.94-2.06 2.06-.94-2.06-.94-.94-2.06-.94 2.06-2.06.94zm-11 1L8.5 8.5l.94-2.06 2.06-.94-2.06-.94L8.5 2.5l-.94 2.06-2.06.94zm10 10l.94 2.06.94-2.06 2.06-.94-2.06-.94-.94-2.06-.94 2.06-2.06.94z\"/><path d=\"M17.41 7.96l-1.37-1.37c-.4-.4-.92-.59-1.43-.59-.52 0-1.04.2-1.43.59L10.3 9.45l-7.72 7.72c-.78.78-.78 2.05 0 2.83L4 21.41c.39.39.9.59 1.41.59.51 0 1.02-.2 1.41-.59l7.78-7.78 2.81-2.81c.8-.78.8-2.07 0-2.86zM5.41 20L4 18.59l7.72-7.72 1.47 1.35L5.41 20z\"/>\n",
              "  </svg>\n",
              "      </button>\n",
              "      \n",
              "  <style>\n",
              "    .colab-df-container {\n",
              "      display:flex;\n",
              "      flex-wrap:wrap;\n",
              "      gap: 12px;\n",
              "    }\n",
              "\n",
              "    .colab-df-convert {\n",
              "      background-color: #E8F0FE;\n",
              "      border: none;\n",
              "      border-radius: 50%;\n",
              "      cursor: pointer;\n",
              "      display: none;\n",
              "      fill: #1967D2;\n",
              "      height: 32px;\n",
              "      padding: 0 0 0 0;\n",
              "      width: 32px;\n",
              "    }\n",
              "\n",
              "    .colab-df-convert:hover {\n",
              "      background-color: #E2EBFA;\n",
              "      box-shadow: 0px 1px 2px rgba(60, 64, 67, 0.3), 0px 1px 3px 1px rgba(60, 64, 67, 0.15);\n",
              "      fill: #174EA6;\n",
              "    }\n",
              "\n",
              "    [theme=dark] .colab-df-convert {\n",
              "      background-color: #3B4455;\n",
              "      fill: #D2E3FC;\n",
              "    }\n",
              "\n",
              "    [theme=dark] .colab-df-convert:hover {\n",
              "      background-color: #434B5C;\n",
              "      box-shadow: 0px 1px 3px 1px rgba(0, 0, 0, 0.15);\n",
              "      filter: drop-shadow(0px 1px 2px rgba(0, 0, 0, 0.3));\n",
              "      fill: #FFFFFF;\n",
              "    }\n",
              "  </style>\n",
              "\n",
              "      <script>\n",
              "        const buttonEl =\n",
              "          document.querySelector('#df-3615c16b-53e4-4c1d-bf56-7fe38cb55a1e button.colab-df-convert');\n",
              "        buttonEl.style.display =\n",
              "          google.colab.kernel.accessAllowed ? 'block' : 'none';\n",
              "\n",
              "        async function convertToInteractive(key) {\n",
              "          const element = document.querySelector('#df-3615c16b-53e4-4c1d-bf56-7fe38cb55a1e');\n",
              "          const dataTable =\n",
              "            await google.colab.kernel.invokeFunction('convertToInteractive',\n",
              "                                                     [key], {});\n",
              "          if (!dataTable) return;\n",
              "\n",
              "          const docLinkHtml = 'Like what you see? Visit the ' +\n",
              "            '<a target=\"_blank\" href=https://colab.research.google.com/notebooks/data_table.ipynb>data table notebook</a>'\n",
              "            + ' to learn more about interactive tables.';\n",
              "          element.innerHTML = '';\n",
              "          dataTable['output_type'] = 'display_data';\n",
              "          await google.colab.output.renderOutput(dataTable, element);\n",
              "          const docLink = document.createElement('div');\n",
              "          docLink.innerHTML = docLinkHtml;\n",
              "          element.appendChild(docLink);\n",
              "        }\n",
              "      </script>\n",
              "    </div>\n",
              "  </div>\n",
              "  "
            ]
          },
          "metadata": {},
          "execution_count": 65
        }
      ],
      "source": [
        "data"
      ]
    },
    {
      "cell_type": "code",
      "source": [
        "X = likes_series"
      ],
      "metadata": {
        "id": "EzUBpif_0WPu"
      },
      "execution_count": null,
      "outputs": []
    },
    {
      "cell_type": "code",
      "source": [
        "X.shape"
      ],
      "metadata": {
        "colab": {
          "base_uri": "https://localhost:8080/"
        },
        "id": "c5CcVjtI0WNW",
        "outputId": "be609e85-b4c1-4b82-c6c6-7a1712b272b8"
      },
      "execution_count": null,
      "outputs": [
        {
          "output_type": "execute_result",
          "data": {
            "text/plain": [
              "(5631, 1)"
            ]
          },
          "metadata": {},
          "execution_count": 73
        }
      ]
    },
    {
      "cell_type": "code",
      "source": [
        "X[0]"
      ],
      "metadata": {
        "colab": {
          "base_uri": "https://localhost:8080/"
        },
        "id": "mlbX79vA0WLK",
        "outputId": "ed71ef27-2398-420e-cd9c-63f00ebe33ee"
      },
      "execution_count": null,
      "outputs": [
        {
          "output_type": "execute_result",
          "data": {
            "text/plain": [
              "array([17090])"
            ]
          },
          "metadata": {},
          "execution_count": 74
        }
      ]
    },
    {
      "cell_type": "code",
      "source": [
        "Y = data['views']"
      ],
      "metadata": {
        "id": "AmAXHc6NnpZV"
      },
      "execution_count": null,
      "outputs": []
    },
    {
      "cell_type": "code",
      "source": [
        "Y.shape"
      ],
      "metadata": {
        "colab": {
          "base_uri": "https://localhost:8080/"
        },
        "id": "mWE1hpK82X-O",
        "outputId": "26df58a3-1915-4845-ac3f-3c1162f1d43f"
      },
      "execution_count": null,
      "outputs": [
        {
          "output_type": "execute_result",
          "data": {
            "text/plain": [
              "(5631,)"
            ]
          },
          "metadata": {},
          "execution_count": 76
        }
      ]
    },
    {
      "cell_type": "code",
      "source": [
        "#import train_test_split\n",
        "from sklearn.model_selection import train_test_split"
      ],
      "metadata": {
        "id": "xWb11bIx2vCc"
      },
      "execution_count": null,
      "outputs": []
    },
    {
      "cell_type": "code",
      "source": [
        "X_train, X_test, Y_train, Y_test = train_test_split(X, Y, test_size=0.2)"
      ],
      "metadata": {
        "id": "kzTpNU4l3Ykg"
      },
      "execution_count": null,
      "outputs": []
    },
    {
      "cell_type": "code",
      "source": [
        "X_train.shape, Y_train.shape"
      ],
      "metadata": {
        "colab": {
          "base_uri": "https://localhost:8080/"
        },
        "id": "xjd1C7LF3aL0",
        "outputId": "ba084ec0-4b78-449c-c46c-0dd9efceb542"
      },
      "execution_count": null,
      "outputs": [
        {
          "output_type": "execute_result",
          "data": {
            "text/plain": [
              "((4504, 1), (4504,))"
            ]
          },
          "metadata": {},
          "execution_count": 79
        }
      ]
    },
    {
      "cell_type": "code",
      "source": [
        "X_test.shape, Y_test.shape"
      ],
      "metadata": {
        "colab": {
          "base_uri": "https://localhost:8080/"
        },
        "id": "Ohlmvhbb3xww",
        "outputId": "80d8da92-d8ed-40ea-bbcb-0be2ea8126f2"
      },
      "execution_count": null,
      "outputs": [
        {
          "output_type": "execute_result",
          "data": {
            "text/plain": [
              "((1127, 1), (1127,))"
            ]
          },
          "metadata": {},
          "execution_count": 80
        }
      ]
    },
    {
      "cell_type": "code",
      "source": [
        "from sklearn.linear_model import LinearRegression"
      ],
      "metadata": {
        "id": "B_FsxaDHagIi"
      },
      "execution_count": null,
      "outputs": []
    },
    {
      "cell_type": "code",
      "source": [
        "# creating a model\n",
        "model = LinearRegression()"
      ],
      "metadata": {
        "id": "sxHxcapGl7XS"
      },
      "execution_count": null,
      "outputs": []
    },
    {
      "cell_type": "code",
      "source": [
        "# train a model using training data\n",
        "model.fit(X_train, Y_train)"
      ],
      "metadata": {
        "colab": {
          "base_uri": "https://localhost:8080/",
          "height": 74
        },
        "id": "37YAL73ymB3-",
        "outputId": "93c093f5-898e-4ba4-9b89-20c1870f58cc"
      },
      "execution_count": null,
      "outputs": [
        {
          "output_type": "execute_result",
          "data": {
            "text/plain": [
              "LinearRegression()"
            ],
            "text/html": [
              "<style>#sk-container-id-2 {color: black;background-color: white;}#sk-container-id-2 pre{padding: 0;}#sk-container-id-2 div.sk-toggleable {background-color: white;}#sk-container-id-2 label.sk-toggleable__label {cursor: pointer;display: block;width: 100%;margin-bottom: 0;padding: 0.3em;box-sizing: border-box;text-align: center;}#sk-container-id-2 label.sk-toggleable__label-arrow:before {content: \"▸\";float: left;margin-right: 0.25em;color: #696969;}#sk-container-id-2 label.sk-toggleable__label-arrow:hover:before {color: black;}#sk-container-id-2 div.sk-estimator:hover label.sk-toggleable__label-arrow:before {color: black;}#sk-container-id-2 div.sk-toggleable__content {max-height: 0;max-width: 0;overflow: hidden;text-align: left;background-color: #f0f8ff;}#sk-container-id-2 div.sk-toggleable__content pre {margin: 0.2em;color: black;border-radius: 0.25em;background-color: #f0f8ff;}#sk-container-id-2 input.sk-toggleable__control:checked~div.sk-toggleable__content {max-height: 200px;max-width: 100%;overflow: auto;}#sk-container-id-2 input.sk-toggleable__control:checked~label.sk-toggleable__label-arrow:before {content: \"▾\";}#sk-container-id-2 div.sk-estimator input.sk-toggleable__control:checked~label.sk-toggleable__label {background-color: #d4ebff;}#sk-container-id-2 div.sk-label input.sk-toggleable__control:checked~label.sk-toggleable__label {background-color: #d4ebff;}#sk-container-id-2 input.sk-hidden--visually {border: 0;clip: rect(1px 1px 1px 1px);clip: rect(1px, 1px, 1px, 1px);height: 1px;margin: -1px;overflow: hidden;padding: 0;position: absolute;width: 1px;}#sk-container-id-2 div.sk-estimator {font-family: monospace;background-color: #f0f8ff;border: 1px dotted black;border-radius: 0.25em;box-sizing: border-box;margin-bottom: 0.5em;}#sk-container-id-2 div.sk-estimator:hover {background-color: #d4ebff;}#sk-container-id-2 div.sk-parallel-item::after {content: \"\";width: 100%;border-bottom: 1px solid gray;flex-grow: 1;}#sk-container-id-2 div.sk-label:hover label.sk-toggleable__label {background-color: #d4ebff;}#sk-container-id-2 div.sk-serial::before {content: \"\";position: absolute;border-left: 1px solid gray;box-sizing: border-box;top: 0;bottom: 0;left: 50%;z-index: 0;}#sk-container-id-2 div.sk-serial {display: flex;flex-direction: column;align-items: center;background-color: white;padding-right: 0.2em;padding-left: 0.2em;position: relative;}#sk-container-id-2 div.sk-item {position: relative;z-index: 1;}#sk-container-id-2 div.sk-parallel {display: flex;align-items: stretch;justify-content: center;background-color: white;position: relative;}#sk-container-id-2 div.sk-item::before, #sk-container-id-2 div.sk-parallel-item::before {content: \"\";position: absolute;border-left: 1px solid gray;box-sizing: border-box;top: 0;bottom: 0;left: 50%;z-index: -1;}#sk-container-id-2 div.sk-parallel-item {display: flex;flex-direction: column;z-index: 1;position: relative;background-color: white;}#sk-container-id-2 div.sk-parallel-item:first-child::after {align-self: flex-end;width: 50%;}#sk-container-id-2 div.sk-parallel-item:last-child::after {align-self: flex-start;width: 50%;}#sk-container-id-2 div.sk-parallel-item:only-child::after {width: 0;}#sk-container-id-2 div.sk-dashed-wrapped {border: 1px dashed gray;margin: 0 0.4em 0.5em 0.4em;box-sizing: border-box;padding-bottom: 0.4em;background-color: white;}#sk-container-id-2 div.sk-label label {font-family: monospace;font-weight: bold;display: inline-block;line-height: 1.2em;}#sk-container-id-2 div.sk-label-container {text-align: center;}#sk-container-id-2 div.sk-container {/* jupyter's `normalize.less` sets `[hidden] { display: none; }` but bootstrap.min.css set `[hidden] { display: none !important; }` so we also need the `!important` here to be able to override the default hidden behavior on the sphinx rendered scikit-learn.org. See: https://github.com/scikit-learn/scikit-learn/issues/21755 */display: inline-block !important;position: relative;}#sk-container-id-2 div.sk-text-repr-fallback {display: none;}</style><div id=\"sk-container-id-2\" class=\"sk-top-container\"><div class=\"sk-text-repr-fallback\"><pre>LinearRegression()</pre><b>In a Jupyter environment, please rerun this cell to show the HTML representation or trust the notebook. <br />On GitHub, the HTML representation is unable to render, please try loading this page with nbviewer.org.</b></div><div class=\"sk-container\" hidden><div class=\"sk-item\"><div class=\"sk-estimator sk-toggleable\"><input class=\"sk-toggleable__control sk-hidden--visually\" id=\"sk-estimator-id-2\" type=\"checkbox\" checked><label for=\"sk-estimator-id-2\" class=\"sk-toggleable__label sk-toggleable__label-arrow\">LinearRegression</label><div class=\"sk-toggleable__content\"><pre>LinearRegression()</pre></div></div></div></div></div>"
            ]
          },
          "metadata": {},
          "execution_count": 86
        }
      ]
    },
    {
      "cell_type": "code",
      "source": [
        "model.coef_"
      ],
      "metadata": {
        "colab": {
          "base_uri": "https://localhost:8080/"
        },
        "id": "-3DbGIwUmE5C",
        "outputId": "107adbcb-c868-433e-ea4e-6e60eceaba4b"
      },
      "execution_count": null,
      "outputs": [
        {
          "output_type": "execute_result",
          "data": {
            "text/plain": [
              "array([33.69885353])"
            ]
          },
          "metadata": {},
          "execution_count": 87
        }
      ]
    },
    {
      "cell_type": "code",
      "source": [
        "model.intercept_"
      ],
      "metadata": {
        "colab": {
          "base_uri": "https://localhost:8080/"
        },
        "id": "olnOxFazm47m",
        "outputId": "7ffe63f8-42c7-4049-8856-2af7ede62d39"
      },
      "execution_count": null,
      "outputs": [
        {
          "output_type": "execute_result",
          "data": {
            "text/plain": [
              "-8743.21121389931"
            ]
          },
          "metadata": {},
          "execution_count": 88
        }
      ]
    },
    {
      "cell_type": "code",
      "source": [
        "model.coef_.round(2)"
      ],
      "metadata": {
        "colab": {
          "base_uri": "https://localhost:8080/"
        },
        "id": "LwWhHSFl4g7-",
        "outputId": "3264a50e-c305-474c-efa0-18a24b20bc67"
      },
      "execution_count": null,
      "outputs": [
        {
          "output_type": "execute_result",
          "data": {
            "text/plain": [
              "array([33.7])"
            ]
          },
          "metadata": {},
          "execution_count": 89
        }
      ]
    },
    {
      "cell_type": "code",
      "source": [
        "model.score(X_train, Y_train)"
      ],
      "metadata": {
        "colab": {
          "base_uri": "https://localhost:8080/"
        },
        "id": "NkHHBFDX4je6",
        "outputId": "80ea6e85-41b7-4958-f4bf-0ef4fce7285e"
      },
      "execution_count": null,
      "outputs": [
        {
          "output_type": "execute_result",
          "data": {
            "text/plain": [
              "0.9996392338081874"
            ]
          },
          "metadata": {},
          "execution_count": 90
        }
      ]
    },
    {
      "cell_type": "code",
      "source": [
        "model.score(X_test, Y_test)"
      ],
      "metadata": {
        "colab": {
          "base_uri": "https://localhost:8080/"
        },
        "id": "Brn6cw0W5mKh",
        "outputId": "50d4fd91-e7d6-427c-acec-b6655dde9d77"
      },
      "execution_count": null,
      "outputs": [
        {
          "output_type": "execute_result",
          "data": {
            "text/plain": [
              "0.9995649143708369"
            ]
          },
          "metadata": {},
          "execution_count": 91
        }
      ]
    },
    {
      "cell_type": "markdown",
      "source": [
        " # ***By analyzing the above result, we conclude that the prediction of the number of views by the number of likes has a very less difference in their scores.***"
      ],
      "metadata": {
        "id": "ZR7qc_BWp4-_"
      }
    }
  ],
  "metadata": {
    "colab": {
      "provenance": [],
      "include_colab_link": true
    },
    "kernelspec": {
      "display_name": "Python 3",
      "name": "python3"
    }
  },
  "nbformat": 4,
  "nbformat_minor": 0
}